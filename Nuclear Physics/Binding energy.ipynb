{
 "cells": [
  {
   "cell_type": "code",
   "execution_count": 1,
   "metadata": {},
   "outputs": [],
   "source": [
    "import numpy as np"
   ]
  },
  {
   "cell_type": "code",
   "execution_count": 2,
   "metadata": {},
   "outputs": [],
   "source": [
    "#Constant parameters in Million eV (MeVs)\n",
    "a1=15.67\n",
    "a2=17.23\n",
    "a3=0.75\n",
    "a4=93.2"
   ]
  },
  {
   "cell_type": "code",
   "execution_count": 3,
   "metadata": {},
   "outputs": [
    {
     "name": "stdout",
     "output_type": "stream",
     "text": [
      "Enter Atomic Number Z: 28\n",
      "Enter Mass Number A: 58\n"
     ]
    }
   ],
   "source": [
    "Z=int(input(\"Enter Atomic Number Z: \"))\n",
    "A=int(input(\"Enter Mass Number A: \"))"
   ]
  },
  {
   "cell_type": "code",
   "execution_count": 4,
   "metadata": {},
   "outputs": [
    {
     "data": {
      "text/plain": [
       "12.0"
      ]
     },
     "execution_count": 4,
     "metadata": {},
     "output_type": "execute_result"
    }
   ],
   "source": [
    "#Fifth parameter\n",
    "if A%2==1:                 #A is odd\n",
    "    a5=0       \n",
    "elif (A%2==0)and(Z%2==0):  #A and Z are both even\n",
    "    a5=12.0\n",
    "elif (A%2==0)and(Z%2==1):  #A is even and Z is odd\n",
    "    a5=-12.0\n",
    "a5"
   ]
  },
  {
   "cell_type": "markdown",
   "metadata": {},
   "source": [
    "### Semi-empirical mass Formula for Nuclear Binding Energy B\n",
    "\n",
    "$ B = a_1 A-a_2 A^\\frac{2}{3}-a_3 \\frac{Z^2}{A^\\frac{1}{3}} -a_4 \\frac{(A-2Z)^2}{A} + \\frac{a_5}{A^\\frac{1}{2}}$ "
   ]
  },
  {
   "cell_type": "code",
   "execution_count": 5,
   "metadata": {},
   "outputs": [],
   "source": [
    "#Binding energy calculation\n",
    "B= a1*A-a2*A**(2/3)-a3*(Z**2)/(A**(1/3))-a4*((A-2*Z)**2)/(A)+a5/(A**0.5)"
   ]
  },
  {
   "cell_type": "code",
   "execution_count": 6,
   "metadata": {},
   "outputs": [
    {
     "name": "stdout",
     "output_type": "stream",
     "text": [
      "For the element with atomic number Z = 28 and mass number A = 58  ,\n",
      "Nuclear Binding energy is B= 493.93560680136824\n"
     ]
    }
   ],
   "source": [
    "print(\"For the element with atomic number Z =\",Z,\"and mass number A =\",A,\" ,\")\n",
    "print(\"Nuclear Binding energy is B=\",B)"
   ]
  },
  {
   "cell_type": "code",
   "execution_count": 7,
   "metadata": {},
   "outputs": [
    {
     "name": "stdout",
     "output_type": "stream",
     "text": [
      "Binding energy per nucleon is B/A= 8.516131151747729\n"
     ]
    }
   ],
   "source": [
    "#Binding energy per nucleon\n",
    "\n",
    "Bn=B/A\n",
    "print(\"Binding energy per nucleon is B/A=\",Bn)\n"
   ]
  },
  {
   "cell_type": "markdown",
   "metadata": {},
   "source": [
    "### Finding most stable nucleus with given atomic number Z"
   ]
  },
  {
   "cell_type": "code",
   "execution_count": 8,
   "metadata": {},
   "outputs": [
    {
     "name": "stdout",
     "output_type": "stream",
     "text": [
      "Enter the atomic number Z:76\n"
     ]
    }
   ],
   "source": [
    "Z=int(input(\"Enter the atomic number Z:\"))"
   ]
  },
  {
   "cell_type": "code",
   "execution_count": 9,
   "metadata": {},
   "outputs": [],
   "source": [
    "Lbn = 0          #largest binding energy\n",
    "An  = Z          #Respective mass number\n",
    "for A in np.arange(Z,3*Z,1):\n",
    "    #Constant parameters in Million eV (MeVs)\n",
    "    a1=15.67\n",
    "    a2=17.23\n",
    "    a3=0.75\n",
    "    a4=93.2\n",
    "    #Fifth parameter\n",
    "    if A%2==1:                 #A is odd\n",
    "        a5=0       \n",
    "    elif (A%2==0)and(Z%2==0):  #A and Z are both even\n",
    "        a5=12.0\n",
    "    elif (A%2==0)and(Z%2==1):  #A is even and Z is odd\n",
    "        a5=-12.0\n",
    "    \n",
    "    #Binding energy calculation\n",
    "    B= a1*A-a2*A**(2/3)-a3*(Z**2)/(A**(1/3))-a4*((A-2*Z)**2)/(A)+a5/(A**0.5)\n",
    "    #Binding energy per nucleon\n",
    "    Bn=B/A\n",
    "    #print(A,Bn)\n",
    "    if Lbn<Bn:\n",
    "        Lbn=Bn\n",
    "        An=A"
   ]
  },
  {
   "cell_type": "code",
   "execution_count": 10,
   "metadata": {},
   "outputs": [
    {
     "data": {
      "text/plain": [
       "(7.282904261469813, 158)"
      ]
     },
     "execution_count": 10,
     "metadata": {},
     "output_type": "execute_result"
    }
   ],
   "source": [
    "Lbn,An"
   ]
  },
  {
   "cell_type": "code",
   "execution_count": 11,
   "metadata": {},
   "outputs": [
    {
     "name": "stdout",
     "output_type": "stream",
     "text": [
      "For given atomic number Z =  76\n",
      "The most stable nuclei is [Z= 76 ,A= 158 ] with binding energy per nucleon 7.282904261469813\n"
     ]
    }
   ],
   "source": [
    "print(\"For given atomic number Z = \",Z)\n",
    "print(\"The most stable nuclei is [Z=\",Z,\",A=\",An,\"] with binding energy per nucleon\",Lbn)"
   ]
  },
  {
   "cell_type": "markdown",
   "metadata": {},
   "source": [
    "## Finding most stable nuclei for all Z from 1 to 100"
   ]
  },
  {
   "cell_type": "code",
   "execution_count": 12,
   "metadata": {},
   "outputs": [],
   "source": [
    "#Finding maximum binding energy per nucleon for particular Z\n",
    "def BE(Z):\n",
    "    Lbn = 0          #largest binding energy\n",
    "    An  = Z          #Respective mass number\n",
    "    for A in np.arange(Z,3*Z,1):\n",
    "        #Constant parameters in Million eV (MeVs)\n",
    "        a1=15.67\n",
    "        a2=17.23\n",
    "        a3=0.75\n",
    "        a4=93.2\n",
    "        #Fifth parameter\n",
    "        if A%2==1:                 #A is odd\n",
    "            a5=0       \n",
    "        elif (A%2==0)and(Z%2==0):  #A and Z are both even\n",
    "            a5=12.0\n",
    "        elif (A%2==0)and(Z%2==1):  #A is even and Z is odd\n",
    "            a5=-12.0\n",
    "    \n",
    "        #Binding energy calculation\n",
    "        B= a1*A-a2*A**(2/3)-a3*(Z**2)/(A**(1/3))-a4*((A-2*Z)**2)/(A)+a5/(A**0.5)\n",
    "        #Binding energy per nucleon\n",
    "        Bn=B/A\n",
    "        \n",
    "        if Lbn<Bn:\n",
    "            Lbn=Bn\n",
    "            An=A\n",
    "    return An,Lbn"
   ]
  },
  {
   "cell_type": "code",
   "execution_count": 13,
   "metadata": {},
   "outputs": [
    {
     "data": {
      "text/plain": [
       "(194, 6.7980284984155)"
      ]
     },
     "execution_count": 13,
     "metadata": {},
     "output_type": "execute_result"
    }
   ],
   "source": [
    "BE(92)"
   ]
  },
  {
   "cell_type": "code",
   "execution_count": 14,
   "metadata": {},
   "outputs": [
    {
     "name": "stdout",
     "output_type": "stream",
     "text": [
      "Z         A     Largest BE per nucleon\n",
      "1           1      0\n",
      "2           4      5.843309761445089\n",
      "3           6      4.752357643495461\n",
      "4           8      6.835330085889912\n",
      "5           10      6.42277121416258\n",
      "6           12      7.450001408063262\n",
      "7           15      7.2759287595854785\n",
      "8           16      7.829219179670832\n",
      "9           19      7.7565457636093065\n",
      "10           20      8.075065994502456\n",
      "11           23      8.047741643605248\n",
      "12           24      8.238691826796318\n",
      "13           27      8.23400548696845\n",
      "14           28      8.347948969539557\n",
      "15           31      8.355316017924503\n",
      "16           32      8.419299763471765\n",
      "17           35      8.433300109655088\n",
      "18           36      8.463130252869773\n",
      "19           39      8.480797498293386\n",
      "20           41      8.495784570724105\n",
      "21           43      8.505969250374267\n",
      "22           46      8.521126546356417\n",
      "23           47      8.51427985673783\n",
      "24           50      8.532622751365931\n",
      "25           51      8.509541272617627\n",
      "26           54      8.529918878483894\n",
      "27           55      8.494502009034267\n",
      "28           58      8.516131151747729\n",
      "29           59      8.471198426724659\n",
      "30           62      8.493539040433166\n",
      "31           63      8.441173961358636\n",
      "32           66      8.463850079532241\n",
      "33           69      8.407023623298558\n",
      "34           70      8.428369633665127\n",
      "35           73      8.378546716689646\n",
      "36           74      8.388113269898794\n",
      "37           77      8.344202808885123\n",
      "38           78      8.343883240098318\n",
      "39           81      8.305002733727862\n",
      "40           82      8.296321819444412\n",
      "41           85      8.261750510640876\n",
      "42           86      8.24594931259649\n",
      "43           89      8.215093312348952\n",
      "44           92      8.19461382681585\n",
      "45           93      8.165557635885968\n",
      "46           96      8.147660087251849\n",
      "47           97      8.113575920303537\n",
      "48           100      8.09792588469997\n",
      "49           101      8.059506427776757\n",
      "50           104      8.045820701666507\n",
      "51           105      8.003648295151866\n",
      "52           108      7.9916857764084135\n",
      "53           111      7.94645235076544\n",
      "54           112      7.935807480620873\n",
      "55           115      7.893842076428151\n",
      "56           116      7.878427690702502\n",
      "57           119      7.839412042376312\n",
      "58           120      7.819751909047517\n",
      "59           123      7.783406816608566\n",
      "60           124      7.759955682578084\n",
      "61           127      7.726035276958766\n",
      "62           130      7.7005459914990935\n",
      "63           131      7.667476698492233\n",
      "64           134      7.643787578247822\n",
      "65           135      7.6078856509526185\n",
      "66           138      7.58583969107545\n",
      "67           139      7.547395967121129\n",
      "68           142      7.526853043899859\n",
      "69           143      7.486123979926559\n",
      "70           146      7.46695869996326\n",
      "71           149      7.427989147781526\n",
      "72           150      7.406271043404146\n",
      "73           153      7.369331436311893\n",
      "74           154      7.344890236341641\n",
      "75           157      7.309833806640477\n",
      "76           158      7.282904261469813\n",
      "77           161      7.249597778869266\n",
      "78           164      7.22310245870899\n",
      "79           165      7.188712895456172\n",
      "80           168      7.163577218102271\n",
      "81           169      7.127258348007435\n",
      "82           172      7.10339061133681\n",
      "83           173      7.065304351415036\n",
      "84           176      7.042620612142927\n",
      "85           179      7.005622315941091\n",
      "86           180      6.981336598852258\n",
      "87           183      6.945898605341501\n",
      "88           184      6.919600438263286\n",
      "89           187      6.885629827659542\n",
      "90           190      6.857606054313791\n",
      "91           191      6.824878368299097\n",
      "92           194      6.7980284984155\n",
      "93           195      6.763700169837886\n",
      "94           198      6.737957421244245\n",
      "95           199      6.702145489317908\n",
      "96           202      6.677447887170413\n",
      "97           205      6.641488369559367\n",
      "98           206      6.616549516348999\n",
      "99           209      6.5818849352304305\n"
     ]
    }
   ],
   "source": [
    "# Finding largest binding energies for each Z\n",
    "bdata={}\n",
    "LBE=0         # To store the Largest Binding Energy per nucleon among all elements\n",
    "LZn=1         # Respective Atomic Number\n",
    "LAn=1         # Respective Mass Number\n",
    "print(\"Z    \",\"    A\",\"    Largest BE per nucleon\")\n",
    "for Z in np.arange(1,100,1):\n",
    "    massn,be=BE(Z)\n",
    "    print(Z,\"    \",\"    \",massn,\"    \",be)\n",
    "    bdata.update({Z:[Z,massn,be]})\n",
    "    if be>LBE:\n",
    "        LBE=be\n",
    "        LZn=Z\n",
    "        LAn=massn"
   ]
  },
  {
   "cell_type": "code",
   "execution_count": 15,
   "metadata": {},
   "outputs": [
    {
     "name": "stdout",
     "output_type": "stream",
     "text": [
      "24 50 8.532622751365931\n"
     ]
    }
   ],
   "source": [
    "print(LZn,LAn,LBE)"
   ]
  },
  {
   "cell_type": "code",
   "execution_count": 16,
   "metadata": {},
   "outputs": [
    {
     "name": "stdout",
     "output_type": "stream",
     "text": [
      "Largest binding energy per nucleon occurs at:\n",
      "Atomic Number Z= 24 Mass number A= 50 with value 8.532622751365931\n"
     ]
    }
   ],
   "source": [
    "print(\"Largest binding energy per nucleon occurs at:\")\n",
    "print(\"Atomic Number Z=\",LZn,\"Mass number A=\",LAn,\"with value\",LBE)\n"
   ]
  },
  {
   "cell_type": "code",
   "execution_count": null,
   "metadata": {},
   "outputs": [],
   "source": []
  },
  {
   "cell_type": "code",
   "execution_count": null,
   "metadata": {},
   "outputs": [],
   "source": []
  },
  {
   "cell_type": "code",
   "execution_count": null,
   "metadata": {},
   "outputs": [],
   "source": []
  },
  {
   "cell_type": "code",
   "execution_count": 20,
   "metadata": {},
   "outputs": [],
   "source": [
    "import pandas as pd"
   ]
  },
  {
   "cell_type": "code",
   "execution_count": 21,
   "metadata": {},
   "outputs": [],
   "source": [
    "bd=pd.DataFrame.from_dict(bdata).T\n",
    "bd.columns=[\"Z\",\"A\",\"BE/A\"]"
   ]
  },
  {
   "cell_type": "code",
   "execution_count": 22,
   "metadata": {},
   "outputs": [
    {
     "data": {
      "text/plain": [
       "[Text(0, 0.5, 'Binding energy per nucleon(MeV)'),\n",
       " Text(0.5, 0, 'Atomic number')]"
      ]
     },
     "execution_count": 22,
     "metadata": {},
     "output_type": "execute_result"
    },
    {
     "data": {
      "image/png": "[encoded data removed]",
      "text/plain": [
       "<Figure size 432x288 with 1 Axes>"
      ]
     },
     "metadata": {
      "needs_background": "light"
     },
     "output_type": "display_data"
    }
   ],
   "source": [
    "bd.plot(x='Z',y='BE/A',title=\"Nuclear Binding energy distribution\").set(xlabel=\"Atomic number\",\\\n",
    "                                                                ylabel=\"Binding energy per nucleon(MeV)\")"
   ]
  },
  {
   "cell_type": "code",
   "execution_count": 23,
   "metadata": {},
   "outputs": [
    {
     "data": {
      "text/plain": [
       "[Text(0, 0.5, 'Binding energy per nucleon(MeV)'),\n",
       " Text(0.5, 0, 'Number of nucleons')]"
      ]
     },
     "execution_count": 23,
     "metadata": {},
     "output_type": "execute_result"
    },
    {
     "data": {
      "image/png": "[encoded data removed]",
      "text/plain": [
       "<Figure size 432x288 with 1 Axes>"
      ]
     },
     "metadata": {
      "needs_background": "light"
     },
     "output_type": "display_data"
    }
   ],
   "source": [
    "bd.plot(x='A',y='BE/A',title=\"Nuclear Binding energy distribution\").set(xlabel=\"Number of nucleons\",\\\n",
    "                                                                ylabel=\"Binding energy per nucleon(MeV)\")"
   ]
  },
  {
   "cell_type": "code",
   "execution_count": null,
   "metadata": {},
   "outputs": [],
   "source": []
  }
 ],
 "metadata": {
  "kernelspec": {
   "display_name": "Python 3",
   "language": "python",
   "name": "python3"
  },
  "language_info": {
   "codemirror_mode": {
    "name": "ipython",
    "version": 3
   },
   "file_extension": ".py",
   "mimetype": "text/x-python",
   "name": "python",
   "nbconvert_exporter": "python",
   "pygments_lexer": "ipython3",
   "version": "3.7.4"
  }
 },
 "nbformat": 4,
 "nbformat_minor": 2
}
