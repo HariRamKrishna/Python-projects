{
 "cells": [
  {
   "cell_type": "code",
   "execution_count": 6,
   "metadata": {},
   "outputs": [],
   "source": [
    "import numpy as np\n",
    "import pandas as pd\n",
    "import math as math\n",
    "import matplotlib.pyplot as plt\n",
    "%matplotlib inline"
   ]
  },
  {
   "cell_type": "code",
   "execution_count": 7,
   "metadata": {},
   "outputs": [
    {
     "data": {
      "text/plain": [
       "{}"
      ]
     },
     "execution_count": 7,
     "metadata": {},
     "output_type": "execute_result"
    }
   ],
   "source": [
    "#Trajectory dictionary\n",
    "trj={}\n",
    "trj "
   ]
  },
  {
   "cell_type": "markdown",
   "metadata": {},
   "source": [
    "Parameters of projection : initial velocity (u), angle of projection($\\alpha$), g , height of projection point(h)"
   ]
  },
  {
   "cell_type": "code",
   "execution_count": 8,
   "metadata": {},
   "outputs": [],
   "source": [
    "u=20 #initial velocity in m/s\n",
    "alp= 33*np.pi/180 #projection angle in radian\n",
    "g=9.8 #acceleration due to gravity in m/s^2\n",
    "h=1.5 #height of projection point"
   ]
  },
  {
   "cell_type": "code",
   "execution_count": 9,
   "metadata": {},
   "outputs": [
    {
     "data": {
      "text/plain": [
       "0.5759586531581288"
      ]
     },
     "execution_count": 9,
     "metadata": {},
     "output_type": "execute_result"
    }
   ],
   "source": [
    "alp\n"
   ]
  },
  {
   "cell_type": "markdown",
   "metadata": {},
   "source": [
    "$ u_x = u \\cos\\alpha$      ,           $ u_y = u \\sin \\alpha $"
   ]
  },
  {
   "cell_type": "code",
   "execution_count": 10,
   "metadata": {},
   "outputs": [],
   "source": [
    "#Horizontal and vertical velocities \n",
    "ux0=u*math.cos(alp)\n",
    "uy0=u*math.sin(alp)"
   ]
  },
  {
   "cell_type": "code",
   "execution_count": 11,
   "metadata": {},
   "outputs": [
    {
     "data": {
      "text/plain": [
       "(16.773411358908483, 10.892780700300541)"
      ]
     },
     "execution_count": 11,
     "metadata": {},
     "output_type": "execute_result"
    }
   ],
   "source": [
    "ux0,uy0\n"
   ]
  },
  {
   "cell_type": "markdown",
   "metadata": {},
   "source": [
    "Time of flight for y=0 projection : \n",
    "$T_0 = \\sqrt{\\frac{2u_y}{g}}$ = $\\sqrt{\\frac{2u \\sin\\alpha}{g}}$"
   ]
  },
  {
   "cell_type": "code",
   "execution_count": 12,
   "metadata": {},
   "outputs": [
    {
     "data": {
      "text/plain": [
       "2.2230164694490897"
      ]
     },
     "execution_count": 12,
     "metadata": {},
     "output_type": "execute_result"
    }
   ],
   "source": [
    "#time of flight for y=0 projection\n",
    "\n",
    "T0= 2*uy0/g\n",
    "T0"
   ]
  },
  {
   "cell_type": "markdown",
   "metadata": {},
   "source": [
    "Time of flight for y=h projection\n",
    "\n",
    "$ T = T_0+ \\frac{-2u_y + \\sqrt{4u_y^2+8gh}}{2g}$\n"
   ]
  },
  {
   "cell_type": "markdown",
   "metadata": {},
   "source": [
    "$T=T_0+\\frac{-u_y+\\sqrt{u_y^2+2gh}}{g}$"
   ]
  },
  {
   "cell_type": "code",
   "execution_count": 13,
   "metadata": {},
   "outputs": [
    {
     "data": {
      "text/plain": [
       "2.3531092192763716"
      ]
     },
     "execution_count": 13,
     "metadata": {},
     "output_type": "execute_result"
    }
   ],
   "source": [
    "T=T0+(-uy0+np.sqrt(uy0**2+2*g*h))/g\n",
    "T"
   ]
  },
  {
   "cell_type": "code",
   "execution_count": 14,
   "metadata": {},
   "outputs": [],
   "source": [
    "for t in np.arange(0,T,0.01):\n",
    "    x=ux0*t\n",
    "    y=h+uy0*t-1/2*g*t**2\n",
    "    trj.update({t:[t,x,y]})\n",
    "    \n",
    "        \n",
    "        \n",
    "           "
   ]
  },
  {
   "cell_type": "code",
   "execution_count": 15,
   "metadata": {},
   "outputs": [
    {
     "data": {
      "text/plain": [
       "{0.0: [0.0, 0.0, 1.5],\n",
       " 0.01: [0.01, 0.16773411358908483, 1.6084378070030052],\n",
       " 0.02: [0.02, 0.33546822717816965, 1.7158956140060109],\n",
       " 0.03: [0.03, 0.5032023407672545, 1.8223734210090163],\n",
       " 0.04: [0.04, 0.6709364543563393, 1.9278712280120216],\n",
       " 0.05: [0.05, 0.8386705679454242, 2.032389035015027],\n",
       " 0.06: [0.06, 1.006404681534509, 2.1359268420180326],\n",
       " 0.07: [0.07, 1.174138795123594, 2.238484649021038],\n",
       " 0.08: [0.08, 1.3418729087126786, 2.3400624560240435],\n",
       " 0.09: [0.09, 1.5096070223017635, 2.4406602630270484],\n",
       " 0.1: [0.1, 1.6773411358908483, 2.540278070030054],\n",
       " 0.11: [0.11, 1.8450752494799332, 2.6389158770330594],\n",
       " 0.12: [0.12, 2.012809363069018, 2.736573684036065],\n",
       " 0.13: [0.13, 2.180543476658103, 2.8332514910390705],\n",
       " 0.14: [0.14, 2.348277590247188, 2.928949298042076],\n",
       " 0.15: [0.15, 2.516011703836272, 3.023667105045081],\n",
       " 0.16: [0.16, 2.6837458174253572, 3.1174049120480865],\n",
       " 0.17: [0.17, 2.8514799310144423, 3.210162719051092],\n",
       " 0.18: [0.18, 3.019214044603527, 3.3019405260540973],\n",
       " 0.19: [0.19, 3.1869481581926116, 3.392738333057103],\n",
       " 0.2: [0.2, 3.3546822717816966, 3.482556140060108],\n",
       " 0.21: [0.21, 3.5224163853707813, 3.5713939470631137],\n",
       " 0.22: [0.22, 3.6901504989598664, 3.659251754066119],\n",
       " 0.23: [0.23, 3.857884612548951, 3.7461295610691248],\n",
       " 0.24: [0.24, 4.025618726138036, 3.83202736807213],\n",
       " 0.25: [0.25, 4.193352839727121, 3.9169451750751354],\n",
       " 0.26: [0.26, 4.361086953316206, 4.00088298207814],\n",
       " 0.27: [0.27, 4.528821066905291, 4.083840789081146],\n",
       " 0.28: [0.28, 4.696555180494376, 4.1658185960841525],\n",
       " 0.29: [0.29, 4.86428929408346, 4.2468164030871565],\n",
       " 0.3: [0.3, 5.032023407672544, 4.326834210090163],\n",
       " 0.31: [0.31, 5.199757521261629, 4.405872017093167],\n",
       " 0.32: [0.32, 5.3674916348507145, 4.483929824096173],\n",
       " 0.33: [0.33, 5.5352257484397995, 4.561007631099178],\n",
       " 0.34: [0.34, 5.702959862028885, 4.637105438102184],\n",
       " 0.35000000000000003: [0.35000000000000003,\n",
       "  5.87069397561797,\n",
       "  4.71222324510519],\n",
       " 0.36: [0.36, 6.038428089207054, 4.7863610521081945],\n",
       " 0.37: [0.37, 6.206162202796139, 4.8595188591111995],\n",
       " 0.38: [0.38, 6.373896316385223, 4.931696666114206],\n",
       " 0.39: [0.39, 6.541630429974308, 5.002894473117212],\n",
       " 0.4: [0.4, 6.709364543563393, 5.073112280120217],\n",
       " 0.41000000000000003: [0.41000000000000003,\n",
       "  6.877098657152478,\n",
       "  5.142350087123222],\n",
       " 0.42: [0.42, 7.0448327707415626, 5.210607894126228],\n",
       " 0.43: [0.43, 7.212566884330648, 5.277885701129232],\n",
       " 0.44: [0.44, 7.380300997919733, 5.344183508132238],\n",
       " 0.45: [0.45, 7.548035111508818, 5.409501315135244],\n",
       " 0.46: [0.46, 7.715769225097902, 5.47383912213825],\n",
       " 0.47000000000000003: [0.47000000000000003,\n",
       "  7.883503338686987,\n",
       "  5.537196929141254],\n",
       " 0.48: [0.48, 8.051237452276071, 5.59957473614426],\n",
       " 0.49: [0.49, 8.218971565865157, 5.660972543147265],\n",
       " 0.5: [0.5, 8.386705679454241, 5.721390350150271],\n",
       " 0.51: [0.51, 8.554439793043326, 5.780828157153276],\n",
       " 0.52: [0.52, 8.722173906632412, 5.839285964156281],\n",
       " 0.53: [0.53, 8.889908020221496, 5.8967637711592875],\n",
       " 0.54: [0.54, 9.057642133810582, 5.953261578162293],\n",
       " 0.55: [0.55, 9.225376247399666, 6.0087793851652975],\n",
       " 0.56: [0.56, 9.393110360988752, 6.063317192168303],\n",
       " 0.5700000000000001: [0.5700000000000001,\n",
       "  9.560844474577836,\n",
       "  6.1168749991713085],\n",
       " 0.58: [0.58, 9.72857858816692, 6.169452806174313],\n",
       " 0.59: [0.59, 9.896312701756004, 6.2210506131773196],\n",
       " 0.6: [0.6, 10.064046815345089, 6.271668420180325],\n",
       " 0.61: [0.61, 10.231780928934175, 6.32130622718333],\n",
       " 0.62: [0.62, 10.399515042523259, 6.369964034186334],\n",
       " 0.63: [0.63, 10.567249156112345, 6.41764184118934],\n",
       " 0.64: [0.64, 10.734983269701429, 6.464339648192347],\n",
       " 0.65: [0.65, 10.902717383290515, 6.510057455195353],\n",
       " 0.66: [0.66, 11.070451496879599, 6.554795262198357],\n",
       " 0.67: [0.67, 11.238185610468683, 6.598553069201363],\n",
       " 0.68: [0.68, 11.40591972405777, 6.641330876204368],\n",
       " 0.6900000000000001: [0.6900000000000001,\n",
       "  11.573653837646853,\n",
       "  6.683128683207373],\n",
       " 0.7000000000000001: [0.7000000000000001, 11.74138795123594, 6.72394649021038],\n",
       " 0.71: [0.71, 11.909122064825022, 6.763784297213382],\n",
       " 0.72: [0.72, 12.076856178414108, 6.802642104216389],\n",
       " 0.73: [0.73, 12.244590292003192, 6.8405199112193955],\n",
       " 0.74: [0.74, 12.412324405592278, 6.8774177182224],\n",
       " 0.75: [0.75, 12.580058519181362, 6.913335525225406],\n",
       " 0.76: [0.76, 12.747792632770446, 6.948273332228412],\n",
       " 0.77: [0.77, 12.915526746359532, 6.982231139231416],\n",
       " 0.78: [0.78, 13.083260859948616, 7.015208946234422],\n",
       " 0.79: [0.79, 13.250994973537702, 7.047206753237426],\n",
       " 0.8: [0.8, 13.418729087126787, 7.078224560240432],\n",
       " 0.81: [0.81, 13.586463200715873, 7.108262367243439],\n",
       " 0.8200000000000001: [0.8200000000000001,\n",
       "  13.754197314304957,\n",
       "  7.137320174246444],\n",
       " 0.8300000000000001: [0.8300000000000001,\n",
       "  13.921931427894043,\n",
       "  7.16539798124945],\n",
       " 0.84: [0.84, 14.089665541483125, 7.1924957882524545],\n",
       " 0.85: [0.85, 14.25739965507221, 7.218613595255459],\n",
       " 0.86: [0.86, 14.425133768661295, 7.243751402258465],\n",
       " 0.87: [0.87, 14.59286788225038, 7.267909209261472],\n",
       " 0.88: [0.88, 14.760601995839465, 7.291087016264475],\n",
       " 0.89: [0.89, 14.92833610942855, 7.313284823267482],\n",
       " 0.9: [0.9, 15.096070223017636, 7.334502630270487],\n",
       " 0.91: [0.91, 15.26380433660672, 7.354740437273492],\n",
       " 0.92: [0.92, 15.431538450195804, 7.373998244276498],\n",
       " 0.93: [0.93, 15.59927256378489, 7.392276051279502],\n",
       " 0.9400000000000001: [0.9400000000000001,\n",
       "  15.767006677373974,\n",
       "  7.409573858282508],\n",
       " 0.9500000000000001: [0.9500000000000001,\n",
       "  15.93474079096306,\n",
       "  7.425891665285515],\n",
       " 0.96: [0.96, 16.102474904552142, 7.44122947228852],\n",
       " 0.97: [0.97, 16.270209018141227, 7.4555872792915245],\n",
       " 0.98: [0.98, 16.437943131730314, 7.4689650862945305],\n",
       " 0.99: [0.99, 16.6056772453194, 7.4813628932975345],\n",
       " 1.0: [1.0, 16.773411358908483, 7.492780700300541],\n",
       " 1.01: [1.01, 16.941145472497567, 7.503218507303547],\n",
       " 1.02: [1.02, 17.10887958608665, 7.512676314306551],\n",
       " 1.03: [1.03, 17.27661369967574, 7.521154121309558],\n",
       " 1.04: [1.04, 17.444347813264823, 7.528651928312562],\n",
       " 1.05: [1.05, 17.612081926853907, 7.535169735315568],\n",
       " 1.06: [1.06, 17.77981604044299, 7.540707542318573],\n",
       " 1.07: [1.07, 17.94755015403208, 7.545265349321578],\n",
       " 1.08: [1.08, 18.115284267621163, 7.548843156324584],\n",
       " 1.09: [1.09, 18.283018381210248, 7.5514409633275905],\n",
       " 1.1: [1.1, 18.45075249479933, 7.553058770330595],\n",
       " 1.11: [1.11, 18.618486608388416, 7.553696577333601],\n",
       " 1.12: [1.12, 18.786220721977504, 7.553354384336606],\n",
       " 1.1300000000000001: [1.1300000000000001,\n",
       "  18.953954835566588,\n",
       "  7.5520321913396105],\n",
       " 1.1400000000000001: [1.1400000000000001,\n",
       "  19.121688949155672,\n",
       "  7.549729998342617],\n",
       " 1.1500000000000001: [1.1500000000000001,\n",
       "  19.289423062744756,\n",
       "  7.546447805345622],\n",
       " 1.16: [1.16, 19.45715717633384, 7.542185612348626],\n",
       " 1.17: [1.17, 19.624891289922925, 7.5369434193516325],\n",
       " 1.18: [1.18, 19.79262540351201, 7.530721226354639],\n",
       " 1.19: [1.19, 19.960359517101093, 7.523519033357643],\n",
       " 1.2: [1.2, 20.128093630690177, 7.515336840360649],\n",
       " 1.21: [1.21, 20.295827744279265, 7.506174647363655],\n",
       " 1.22: [1.22, 20.46356185786835, 7.496032454366659],\n",
       " 1.23: [1.23, 20.631295971457433, 7.484910261369666],\n",
       " 1.24: [1.24, 20.799030085046518, 7.47280806837267],\n",
       " 1.25: [1.25, 20.9667641986356, 7.459725875375676],\n",
       " 1.26: [1.26, 21.13449831222469, 7.445663682378681],\n",
       " 1.27: [1.27, 21.302232425813774, 7.430621489381687],\n",
       " 1.28: [1.28, 21.469966539402858, 7.414599296384692],\n",
       " 1.29: [1.29, 21.637700652991942, 7.397597103387696],\n",
       " 1.3: [1.3, 21.80543476658103, 7.379614910390703],\n",
       " 1.31: [1.31, 21.973168880170114, 7.360652717393709],\n",
       " 1.32: [1.32, 22.140902993759198, 7.340710524396712],\n",
       " 1.33: [1.33, 22.308637107348282, 7.319788331399719],\n",
       " 1.34: [1.34, 22.476371220937367, 7.297886138402724],\n",
       " 1.35: [1.35, 22.644105334526454, 7.275003945405729],\n",
       " 1.36: [1.36, 22.81183944811554, 7.251141752408733],\n",
       " 1.37: [1.37, 22.979573561704623, 7.226299559411741],\n",
       " 1.3800000000000001: [1.3800000000000001,\n",
       "  23.147307675293707,\n",
       "  7.200477366414747],\n",
       " 1.3900000000000001: [1.3900000000000001,\n",
       "  23.315041788882795,\n",
       "  7.173675173417752],\n",
       " 1.4000000000000001: [1.4000000000000001,\n",
       "  23.48277590247188,\n",
       "  7.145892980420758],\n",
       " 1.41: [1.41, 23.65051001606096, 7.1171307874237595],\n",
       " 1.42: [1.42, 23.818244129650044, 7.0873885944267645],\n",
       " 1.43: [1.43, 23.985978243239128, 7.056666401429773],\n",
       " 1.44: [1.44, 24.153712356828215, 7.0249642084327775],\n",
       " 1.45: [1.45, 24.3214464704173, 6.992282015435784],\n",
       " 1.46: [1.46, 24.489180584006384, 6.958619822438791],\n",
       " 1.47: [1.47, 24.656914697595468, 6.923977629441797],\n",
       " 1.48: [1.48, 24.824648811184556, 6.888355436444799],\n",
       " 1.49: [1.49, 24.99238292477364, 6.851753243447805],\n",
       " 1.5: [1.5, 25.160117038362724, 6.8141710504508115],\n",
       " 1.51: [1.51, 25.32785115195181, 6.7756088574538165],\n",
       " 1.52: [1.52, 25.495585265540893, 6.736066664456823],\n",
       " 1.53: [1.53, 25.66331937912998, 6.695544471459826],\n",
       " 1.54: [1.54, 25.831053492719064, 6.654042278462832],\n",
       " 1.55: [1.55, 25.99878760630815, 6.611560085465836],\n",
       " 1.56: [1.56, 26.166521719897233, 6.568097892468844],\n",
       " 1.57: [1.57, 26.33425583348632, 6.523655699471851],\n",
       " 1.58: [1.58, 26.501989947075405, 6.478233506474851],\n",
       " 1.59: [1.59, 26.66972406066449, 6.431831313477858],\n",
       " 1.6: [1.6, 26.837458174253573, 6.384449120480863],\n",
       " 1.61: [1.61, 27.005192287842657, 6.336086927483871],\n",
       " 1.62: [1.62, 27.172926401431745, 6.286744734486875],\n",
       " 1.6300000000000001: [1.6300000000000001, 27.34066051502083, 6.23642254148988],\n",
       " 1.6400000000000001: [1.6400000000000001,\n",
       "  27.508394628609913,\n",
       "  6.185120348492886],\n",
       " 1.6500000000000001: [1.6500000000000001,\n",
       "  27.676128742198998,\n",
       "  6.1328381554958895],\n",
       " 1.6600000000000001: [1.6600000000000001,\n",
       "  27.843862855788085,\n",
       "  6.0795759624988985],\n",
       " 1.67: [1.67, 28.011596969377166, 6.025333769501902],\n",
       " 1.68: [1.68, 28.17933108296625, 5.970111576504911],\n",
       " 1.69: [1.69, 28.347065196555334, 5.9139093835079155],\n",
       " 1.7: [1.7, 28.51479931014442, 5.856727190510918],\n",
       " 1.71: [1.71, 28.682533423733506, 5.798564997513925],\n",
       " 1.72: [1.72, 28.85026753732259, 5.739422804516931],\n",
       " 1.73: [1.73, 29.018001650911675, 5.679300611519935],\n",
       " 1.74: [1.74, 29.18573576450076, 5.618198418522942],\n",
       " 1.75: [1.75, 29.353469878089847, 5.5561162255259475],\n",
       " 1.76: [1.76, 29.52120399167893, 5.493054032528951],\n",
       " 1.77: [1.77, 29.688938105268015, 5.429011839531956],\n",
       " 1.78: [1.78, 29.8566722188571, 5.363989646534963],\n",
       " 1.79: [1.79, 30.024406332446183, 5.297987453537969],\n",
       " 1.8: [1.8, 30.19214044603527, 5.231005260540973],\n",
       " 1.81: [1.81, 30.359874559624355, 5.163043067543978],\n",
       " 1.82: [1.82, 30.52760867321344, 5.094100874546982],\n",
       " 1.83: [1.83, 30.695342786802524, 5.024178681549987],\n",
       " 1.84: [1.84, 30.863076900391608, 4.953276488552994],\n",
       " 1.85: [1.85, 31.030811013980696, 4.8813942955559995],\n",
       " 1.86: [1.86, 31.19854512756978, 4.808532102559003],\n",
       " 1.87: [1.87, 31.366279241158864, 4.734689909562007],\n",
       " 1.8800000000000001: [1.8800000000000001,\n",
       "  31.534013354747948,\n",
       "  4.659867716565014],\n",
       " 1.8900000000000001: [1.8900000000000001,\n",
       "  31.701747468337036,\n",
       "  4.584065523568022],\n",
       " 1.9000000000000001: [1.9000000000000001,\n",
       "  31.86948158192612,\n",
       "  4.507283330571028],\n",
       " 1.9100000000000001: [1.9100000000000001,\n",
       "  32.03721569551521,\n",
       "  4.4295211375740315],\n",
       " 1.92: [1.92, 32.204949809104285, 4.350778944577041],\n",
       " 1.93: [1.93, 32.37268392269337, 4.271056751580041],\n",
       " 1.94: [1.94, 32.54041803628245, 4.190354558583049],\n",
       " 1.95: [1.95, 32.70815214987154, 4.108672365586056],\n",
       " 1.96: [1.96, 32.87588626346063, 4.026010172589061],\n",
       " 1.97: [1.97, 33.04362037704971, 3.942367979592067],\n",
       " 1.98: [1.98, 33.2113544906388, 3.8577457865950677],\n",
       " 1.99: [1.99, 33.37908860422788, 3.7721435935980736],\n",
       " 2.0: [2.0, 33.546822717816966, 3.685561400601081],\n",
       " 2.0100000000000002: [2.0100000000000002,\n",
       "  33.71455683140606,\n",
       "  3.597999207604083],\n",
       " 2.02: [2.02, 33.882290944995134, 3.5094570146070936],\n",
       " 2.0300000000000002: [2.0300000000000002,\n",
       "  34.050025058584225,\n",
       "  3.419934821610095],\n",
       " 2.04: [2.04, 34.2177591721733, 3.3294326286131017],\n",
       " 2.05: [2.05, 34.38549328576239, 3.2379504356161064],\n",
       " 2.06: [2.06, 34.55322739935148, 3.145488242619116],\n",
       " 2.07: [2.07, 34.720961512940555, 3.0520460496221204],\n",
       " 2.08: [2.08, 34.888695626529646, 2.9576238566251227],\n",
       " 2.09: [2.09, 35.05642974011872, 2.8622216636281337],\n",
       " 2.1: [2.1, 35.224163853707815, 2.7658394706311356],\n",
       " 2.11: [2.11, 35.3918979672969, 2.668477277634139],\n",
       " 2.12: [2.12, 35.55963208088598, 2.570135084637144],\n",
       " 2.13: [2.13, 35.72736619447507, 2.470812891640154],\n",
       " 2.14: [2.14, 35.89510030806416, 2.3705106986431552],\n",
       " 2.15: [2.15, 36.062834421653235, 2.2692285056461614],\n",
       " 2.16: [2.16, 36.23056853524233, 2.1669663126491656],\n",
       " 2.17: [2.17, 36.398302648831404, 2.0637241196521714],\n",
       " 2.18: [2.18, 36.566036762420495, 1.9595019266551787],\n",
       " 2.19: [2.19, 36.73377087600958, 1.8542997336581841],\n",
       " 2.2: [2.2, 36.90150498959866, 1.7481175406611875],\n",
       " 2.21: [2.21, 37.06923910318775, 1.6409553476641925],\n",
       " 2.22: [2.22, 37.23697321677683, 1.532813154667199],\n",
       " 2.23: [2.23, 37.404707330365916, 1.4236909616702036],\n",
       " 2.24: [2.24, 37.57244144395501, 1.3135887686732097],\n",
       " 2.25: [2.25, 37.740175557544084, 1.2025065756762139],\n",
       " 2.2600000000000002: [2.2600000000000002,\n",
       "  37.907909671133176,\n",
       "  1.090444382679216],\n",
       " 2.27: [2.27, 38.07564378472225, 0.9774021896822269],\n",
       " 2.2800000000000002: [2.2800000000000002,\n",
       "  38.243377898311344,\n",
       "  0.8633799966852287],\n",
       " 2.29: [2.29, 38.41111201190043, 0.7483778036882356],\n",
       " 2.3000000000000003: [2.3000000000000003,\n",
       "  38.57884612548951,\n",
       "  0.6323956106912405],\n",
       " 2.31: [2.31, 38.7465802390786, 0.515433417694247],\n",
       " 2.32: [2.32, 38.91431435266768, 0.3974912246972515],\n",
       " 2.33: [2.33, 39.082048466256765, 0.2785690317002576],\n",
       " 2.34: [2.34, 39.24978257984585, 0.15866683870326526],\n",
       " 2.35: [2.35, 39.41751669343493, 0.037784645706267384]}"
      ]
     },
     "execution_count": 15,
     "metadata": {},
     "output_type": "execute_result"
    }
   ],
   "source": [
    "trj #stores trajectory history"
   ]
  },
  {
   "cell_type": "code",
   "execution_count": 16,
   "metadata": {},
   "outputs": [],
   "source": [
    "trjy=pd.DataFrame.from_dict(trj).T #changed to dataframe and transposed\n"
   ]
  },
  {
   "cell_type": "code",
   "execution_count": 17,
   "metadata": {},
   "outputs": [],
   "source": [
    "trjy.columns=['time','x-coord','y-coord']"
   ]
  },
  {
   "cell_type": "code",
   "execution_count": 18,
   "metadata": {},
   "outputs": [
    {
     "data": {
      "text/html": [
       "<div>\n",
       "<style scoped>\n",
       "    .dataframe tbody tr th:only-of-type {\n",
       "        vertical-align: middle;\n",
       "    }\n",
       "\n",
       "    .dataframe tbody tr th {\n",
       "        vertical-align: top;\n",
       "    }\n",
       "\n",
       "    .dataframe thead th {\n",
       "        text-align: right;\n",
       "    }\n",
       "</style>\n",
       "<table border=\"1\" class=\"dataframe\">\n",
       "  <thead>\n",
       "    <tr style=\"text-align: right;\">\n",
       "      <th></th>\n",
       "      <th>time</th>\n",
       "      <th>x-coord</th>\n",
       "      <th>y-coord</th>\n",
       "    </tr>\n",
       "  </thead>\n",
       "  <tbody>\n",
       "    <tr>\n",
       "      <td>0.00</td>\n",
       "      <td>0.00</td>\n",
       "      <td>0.000000</td>\n",
       "      <td>1.500000</td>\n",
       "    </tr>\n",
       "    <tr>\n",
       "      <td>0.01</td>\n",
       "      <td>0.01</td>\n",
       "      <td>0.167734</td>\n",
       "      <td>1.608438</td>\n",
       "    </tr>\n",
       "    <tr>\n",
       "      <td>0.02</td>\n",
       "      <td>0.02</td>\n",
       "      <td>0.335468</td>\n",
       "      <td>1.715896</td>\n",
       "    </tr>\n",
       "    <tr>\n",
       "      <td>0.03</td>\n",
       "      <td>0.03</td>\n",
       "      <td>0.503202</td>\n",
       "      <td>1.822373</td>\n",
       "    </tr>\n",
       "    <tr>\n",
       "      <td>0.04</td>\n",
       "      <td>0.04</td>\n",
       "      <td>0.670936</td>\n",
       "      <td>1.927871</td>\n",
       "    </tr>\n",
       "  </tbody>\n",
       "</table>\n",
       "</div>"
      ],
      "text/plain": [
       "      time   x-coord   y-coord\n",
       "0.00  0.00  0.000000  1.500000\n",
       "0.01  0.01  0.167734  1.608438\n",
       "0.02  0.02  0.335468  1.715896\n",
       "0.03  0.03  0.503202  1.822373\n",
       "0.04  0.04  0.670936  1.927871"
      ]
     },
     "execution_count": 18,
     "metadata": {},
     "output_type": "execute_result"
    }
   ],
   "source": [
    "trjy.head()"
   ]
  },
  {
   "cell_type": "code",
   "execution_count": 19,
   "metadata": {
    "scrolled": true
   },
   "outputs": [
    {
     "data": {
      "text/html": [
       "<div>\n",
       "<style scoped>\n",
       "    .dataframe tbody tr th:only-of-type {\n",
       "        vertical-align: middle;\n",
       "    }\n",
       "\n",
       "    .dataframe tbody tr th {\n",
       "        vertical-align: top;\n",
       "    }\n",
       "\n",
       "    .dataframe thead th {\n",
       "        text-align: right;\n",
       "    }\n",
       "</style>\n",
       "<table border=\"1\" class=\"dataframe\">\n",
       "  <thead>\n",
       "    <tr style=\"text-align: right;\">\n",
       "      <th></th>\n",
       "      <th>time</th>\n",
       "      <th>x-coord</th>\n",
       "      <th>y-coord</th>\n",
       "    </tr>\n",
       "  </thead>\n",
       "  <tbody>\n",
       "    <tr>\n",
       "      <td>2.31</td>\n",
       "      <td>2.31</td>\n",
       "      <td>38.746580</td>\n",
       "      <td>0.515433</td>\n",
       "    </tr>\n",
       "    <tr>\n",
       "      <td>2.32</td>\n",
       "      <td>2.32</td>\n",
       "      <td>38.914314</td>\n",
       "      <td>0.397491</td>\n",
       "    </tr>\n",
       "    <tr>\n",
       "      <td>2.33</td>\n",
       "      <td>2.33</td>\n",
       "      <td>39.082048</td>\n",
       "      <td>0.278569</td>\n",
       "    </tr>\n",
       "    <tr>\n",
       "      <td>2.34</td>\n",
       "      <td>2.34</td>\n",
       "      <td>39.249783</td>\n",
       "      <td>0.158667</td>\n",
       "    </tr>\n",
       "    <tr>\n",
       "      <td>2.35</td>\n",
       "      <td>2.35</td>\n",
       "      <td>39.417517</td>\n",
       "      <td>0.037785</td>\n",
       "    </tr>\n",
       "  </tbody>\n",
       "</table>\n",
       "</div>"
      ],
      "text/plain": [
       "      time    x-coord   y-coord\n",
       "2.31  2.31  38.746580  0.515433\n",
       "2.32  2.32  38.914314  0.397491\n",
       "2.33  2.33  39.082048  0.278569\n",
       "2.34  2.34  39.249783  0.158667\n",
       "2.35  2.35  39.417517  0.037785"
      ]
     },
     "execution_count": 19,
     "metadata": {},
     "output_type": "execute_result"
    }
   ],
   "source": [
    "trjy.tail()"
   ]
  },
  {
   "cell_type": "code",
   "execution_count": 20,
   "metadata": {},
   "outputs": [
    {
     "data": {
      "text/html": [
       "<div>\n",
       "<style scoped>\n",
       "    .dataframe tbody tr th:only-of-type {\n",
       "        vertical-align: middle;\n",
       "    }\n",
       "\n",
       "    .dataframe tbody tr th {\n",
       "        vertical-align: top;\n",
       "    }\n",
       "\n",
       "    .dataframe thead th {\n",
       "        text-align: right;\n",
       "    }\n",
       "</style>\n",
       "<table border=\"1\" class=\"dataframe\">\n",
       "  <thead>\n",
       "    <tr style=\"text-align: right;\">\n",
       "      <th></th>\n",
       "      <th>x-coord</th>\n",
       "      <th>y-coord</th>\n",
       "    </tr>\n",
       "    <tr>\n",
       "      <th>time</th>\n",
       "      <th></th>\n",
       "      <th></th>\n",
       "    </tr>\n",
       "  </thead>\n",
       "  <tbody>\n",
       "    <tr>\n",
       "      <td>0.00</td>\n",
       "      <td>0.000000</td>\n",
       "      <td>1.500000</td>\n",
       "    </tr>\n",
       "    <tr>\n",
       "      <td>0.01</td>\n",
       "      <td>0.167734</td>\n",
       "      <td>1.608438</td>\n",
       "    </tr>\n",
       "    <tr>\n",
       "      <td>0.02</td>\n",
       "      <td>0.335468</td>\n",
       "      <td>1.715896</td>\n",
       "    </tr>\n",
       "    <tr>\n",
       "      <td>0.03</td>\n",
       "      <td>0.503202</td>\n",
       "      <td>1.822373</td>\n",
       "    </tr>\n",
       "    <tr>\n",
       "      <td>0.04</td>\n",
       "      <td>0.670936</td>\n",
       "      <td>1.927871</td>\n",
       "    </tr>\n",
       "    <tr>\n",
       "      <td>...</td>\n",
       "      <td>...</td>\n",
       "      <td>...</td>\n",
       "    </tr>\n",
       "    <tr>\n",
       "      <td>2.31</td>\n",
       "      <td>38.746580</td>\n",
       "      <td>0.515433</td>\n",
       "    </tr>\n",
       "    <tr>\n",
       "      <td>2.32</td>\n",
       "      <td>38.914314</td>\n",
       "      <td>0.397491</td>\n",
       "    </tr>\n",
       "    <tr>\n",
       "      <td>2.33</td>\n",
       "      <td>39.082048</td>\n",
       "      <td>0.278569</td>\n",
       "    </tr>\n",
       "    <tr>\n",
       "      <td>2.34</td>\n",
       "      <td>39.249783</td>\n",
       "      <td>0.158667</td>\n",
       "    </tr>\n",
       "    <tr>\n",
       "      <td>2.35</td>\n",
       "      <td>39.417517</td>\n",
       "      <td>0.037785</td>\n",
       "    </tr>\n",
       "  </tbody>\n",
       "</table>\n",
       "<p>236 rows × 2 columns</p>\n",
       "</div>"
      ],
      "text/plain": [
       "        x-coord   y-coord\n",
       "time                     \n",
       "0.00   0.000000  1.500000\n",
       "0.01   0.167734  1.608438\n",
       "0.02   0.335468  1.715896\n",
       "0.03   0.503202  1.822373\n",
       "0.04   0.670936  1.927871\n",
       "...         ...       ...\n",
       "2.31  38.746580  0.515433\n",
       "2.32  38.914314  0.397491\n",
       "2.33  39.082048  0.278569\n",
       "2.34  39.249783  0.158667\n",
       "2.35  39.417517  0.037785\n",
       "\n",
       "[236 rows x 2 columns]"
      ]
     },
     "execution_count": 20,
     "metadata": {},
     "output_type": "execute_result"
    }
   ],
   "source": [
    "trjy.set_index('time') #set time as index"
   ]
  },
  {
   "cell_type": "code",
   "execution_count": 21,
   "metadata": {
    "scrolled": true
   },
   "outputs": [
    {
     "data": {
      "text/plain": [
       "<matplotlib.axes._subplots.AxesSubplot at 0x16d5c8f2e88>"
      ]
     },
     "execution_count": 21,
     "metadata": {},
     "output_type": "execute_result"
    },
    {
     "data": {
      "image/png": "[encoded data removed]",
      "text/plain": [
       "<Figure size 432x288 with 1 Axes>"
      ]
     },
     "metadata": {
      "needs_background": "light"
     },
     "output_type": "display_data"
    }
   ],
   "source": [
    "#PLOT OF y-coordinate(height) with time\n",
    "trjy.plot(x='time',y='y-coord',title='PLOT OF y-coordinate(height) with time')"
   ]
  },
  {
   "cell_type": "code",
   "execution_count": 22,
   "metadata": {},
   "outputs": [
    {
     "data": {
      "text/plain": [
       "[Text(0, 0.5, 'Height in metres'), Text(0.5, 0, 'Distance in metres')]"
      ]
     },
     "execution_count": 22,
     "metadata": {},
     "output_type": "execute_result"
    },
    {
     "data": {
      "image/png": "[encoded data removed]",
      "text/plain": [
       "<Figure size 432x288 with 1 Axes>"
      ]
     },
     "metadata": {
      "needs_background": "light"
     },
     "output_type": "display_data"
    }
   ],
   "source": [
    "#Plot of trajectory in space, y-coordinate versus x-coordinate\n",
    "trjy.plot(x='x-coord', y='y-coord',title='Trajectory in space').set(xlabel=\"Distance in metres\", ylabel=\"Height in metres\")\n"
   ]
  },
  {
   "cell_type": "code",
   "execution_count": 23,
   "metadata": {},
   "outputs": [
    {
     "data": {
      "text/plain": [
       "7.5537077237163235"
      ]
     },
     "execution_count": 23,
     "metadata": {},
     "output_type": "execute_result"
    }
   ],
   "source": [
    "#maximum height:theoretical\n",
    "Ht=uy0**2/(2*g)+h\n",
    "Ht\n"
   ]
  },
  {
   "cell_type": "code",
   "execution_count": 24,
   "metadata": {},
   "outputs": [],
   "source": [
    "H= max(trjy['y-coord']) #maximum height calculated"
   ]
  },
  {
   "cell_type": "code",
   "execution_count": 25,
   "metadata": {},
   "outputs": [
    {
     "data": {
      "text/plain": [
       "-0.00014756174226330008"
      ]
     },
     "execution_count": 25,
     "metadata": {},
     "output_type": "execute_result"
    }
   ],
   "source": [
    "#error\n",
    "(H-Ht)/Ht*100\n"
   ]
  },
  {
   "cell_type": "code",
   "execution_count": 26,
   "metadata": {},
   "outputs": [
    {
     "data": {
      "text/html": [
       "<div>\n",
       "<style scoped>\n",
       "    .dataframe tbody tr th:only-of-type {\n",
       "        vertical-align: middle;\n",
       "    }\n",
       "\n",
       "    .dataframe tbody tr th {\n",
       "        vertical-align: top;\n",
       "    }\n",
       "\n",
       "    .dataframe thead th {\n",
       "        text-align: right;\n",
       "    }\n",
       "</style>\n",
       "<table border=\"1\" class=\"dataframe\">\n",
       "  <thead>\n",
       "    <tr style=\"text-align: right;\">\n",
       "      <th></th>\n",
       "      <th>time</th>\n",
       "      <th>x-coord</th>\n",
       "      <th>y-coord</th>\n",
       "    </tr>\n",
       "  </thead>\n",
       "  <tbody>\n",
       "    <tr>\n",
       "      <td>2.27</td>\n",
       "      <td>2.27</td>\n",
       "      <td>38.075644</td>\n",
       "      <td>0.977402</td>\n",
       "    </tr>\n",
       "    <tr>\n",
       "      <td>2.28</td>\n",
       "      <td>2.28</td>\n",
       "      <td>38.243378</td>\n",
       "      <td>0.863380</td>\n",
       "    </tr>\n",
       "    <tr>\n",
       "      <td>2.29</td>\n",
       "      <td>2.29</td>\n",
       "      <td>38.411112</td>\n",
       "      <td>0.748378</td>\n",
       "    </tr>\n",
       "    <tr>\n",
       "      <td>2.30</td>\n",
       "      <td>2.30</td>\n",
       "      <td>38.578846</td>\n",
       "      <td>0.632396</td>\n",
       "    </tr>\n",
       "    <tr>\n",
       "      <td>2.31</td>\n",
       "      <td>2.31</td>\n",
       "      <td>38.746580</td>\n",
       "      <td>0.515433</td>\n",
       "    </tr>\n",
       "    <tr>\n",
       "      <td>2.32</td>\n",
       "      <td>2.32</td>\n",
       "      <td>38.914314</td>\n",
       "      <td>0.397491</td>\n",
       "    </tr>\n",
       "    <tr>\n",
       "      <td>2.33</td>\n",
       "      <td>2.33</td>\n",
       "      <td>39.082048</td>\n",
       "      <td>0.278569</td>\n",
       "    </tr>\n",
       "    <tr>\n",
       "      <td>2.34</td>\n",
       "      <td>2.34</td>\n",
       "      <td>39.249783</td>\n",
       "      <td>0.158667</td>\n",
       "    </tr>\n",
       "    <tr>\n",
       "      <td>2.35</td>\n",
       "      <td>2.35</td>\n",
       "      <td>39.417517</td>\n",
       "      <td>0.037785</td>\n",
       "    </tr>\n",
       "  </tbody>\n",
       "</table>\n",
       "</div>"
      ],
      "text/plain": [
       "      time    x-coord   y-coord\n",
       "2.27  2.27  38.075644  0.977402\n",
       "2.28  2.28  38.243378  0.863380\n",
       "2.29  2.29  38.411112  0.748378\n",
       "2.30  2.30  38.578846  0.632396\n",
       "2.31  2.31  38.746580  0.515433\n",
       "2.32  2.32  38.914314  0.397491\n",
       "2.33  2.33  39.082048  0.278569\n",
       "2.34  2.34  39.249783  0.158667\n",
       "2.35  2.35  39.417517  0.037785"
      ]
     },
     "execution_count": 26,
     "metadata": {},
     "output_type": "execute_result"
    }
   ],
   "source": [
    "#finding time of landing when y-coord equals zero\n",
    "trjy[trjy['y-coord']//1==0]\n"
   ]
  },
  {
   "cell_type": "markdown",
   "metadata": {},
   "source": [
    "Range\n"
   ]
  },
  {
   "cell_type": "code",
   "execution_count": 27,
   "metadata": {
    "scrolled": true
   },
   "outputs": [
    {
     "data": {
      "text/html": [
       "<div>\n",
       "<style scoped>\n",
       "    .dataframe tbody tr th:only-of-type {\n",
       "        vertical-align: middle;\n",
       "    }\n",
       "\n",
       "    .dataframe tbody tr th {\n",
       "        vertical-align: top;\n",
       "    }\n",
       "\n",
       "    .dataframe thead th {\n",
       "        text-align: right;\n",
       "    }\n",
       "</style>\n",
       "<table border=\"1\" class=\"dataframe\">\n",
       "  <thead>\n",
       "    <tr style=\"text-align: right;\">\n",
       "      <th></th>\n",
       "      <th>time</th>\n",
       "      <th>x-coord</th>\n",
       "      <th>y-coord</th>\n",
       "    </tr>\n",
       "  </thead>\n",
       "  <tbody>\n",
       "    <tr>\n",
       "      <td>2.35</td>\n",
       "      <td>2.35</td>\n",
       "      <td>39.417517</td>\n",
       "      <td>0.037785</td>\n",
       "    </tr>\n",
       "  </tbody>\n",
       "</table>\n",
       "</div>"
      ],
      "text/plain": [
       "      time    x-coord   y-coord\n",
       "2.35  2.35  39.417517  0.037785"
      ]
     },
     "execution_count": 27,
     "metadata": {},
     "output_type": "execute_result"
    }
   ],
   "source": [
    "t_land=trjy[trjy['y-coord']//0.1==0] #approximate time of landing\n",
    "t_land"
   ]
  },
  {
   "cell_type": "code",
   "execution_count": null,
   "metadata": {},
   "outputs": [],
   "source": [
    "#Improved range finder\n",
    "'''\n",
    "t_land=trjy[trjy['y-coord']==min(trjy['y-coord'])] #approximate time of landing\n",
    "if t_land['time'].iloc[0]==0 or t_land['time'].iloc[0]<(T/2):                   #time of landing must fall at end of second half of flight\n",
    "    t_land= trjy.iloc[-1,:]\n",
    "t_land\n",
    "'''"
   ]
  },
  {
   "cell_type": "code",
   "execution_count": 29,
   "metadata": {},
   "outputs": [
    {
     "data": {
      "text/plain": [
       "pandas.core.frame.DataFrame"
      ]
     },
     "execution_count": 29,
     "metadata": {},
     "output_type": "execute_result"
    }
   ],
   "source": [
    "type(t_land)"
   ]
  },
  {
   "cell_type": "code",
   "execution_count": 30,
   "metadata": {},
   "outputs": [
    {
     "data": {
      "text/plain": [
       "2.35"
      ]
     },
     "execution_count": 30,
     "metadata": {},
     "output_type": "execute_result"
    }
   ],
   "source": [
    "t_landing= t_land['time'].iloc[0]\n",
    "if t_landing == 0:\n",
    "    t_landing=t_land['time'].iloc[1] #for h=0 case\n",
    "t_landing"
   ]
  },
  {
   "cell_type": "code",
   "execution_count": 31,
   "metadata": {},
   "outputs": [],
   "source": [
    "R=t_landing*ux0 #calculated range\n"
   ]
  },
  {
   "cell_type": "code",
   "execution_count": 32,
   "metadata": {},
   "outputs": [
    {
     "name": "stdout",
     "output_type": "stream",
     "text": [
      "The calculated range is 39.41751669343493\n"
     ]
    }
   ],
   "source": [
    "print(\"The calculated range is\",R)"
   ]
  },
  {
   "cell_type": "code",
   "execution_count": 33,
   "metadata": {},
   "outputs": [
    {
     "data": {
      "text/plain": [
       "numpy.float64"
      ]
     },
     "execution_count": 33,
     "metadata": {},
     "output_type": "execute_result"
    }
   ],
   "source": [
    "type(R)"
   ]
  },
  {
   "cell_type": "code",
   "execution_count": 34,
   "metadata": {},
   "outputs": [
    {
     "data": {
      "text/plain": [
       "(39.46966890736256, numpy.float64)"
      ]
     },
     "execution_count": 34,
     "metadata": {},
     "output_type": "execute_result"
    }
   ],
   "source": [
    "Rt=T*ux0  #theoretical range\n",
    "Rt,type(Rt)"
   ]
  },
  {
   "cell_type": "code",
   "execution_count": 35,
   "metadata": {},
   "outputs": [
    {
     "name": "stdout",
     "output_type": "stream",
     "text": [
      "The theoretical range is 39.46966890736256 metres\n"
     ]
    }
   ],
   "source": [
    "print(\"The theoretical range is\", Rt ,\"metres\")"
   ]
  },
  {
   "cell_type": "code",
   "execution_count": 36,
   "metadata": {},
   "outputs": [
    {
     "data": {
      "text/plain": [
       "(39.41751669343493, 39.46966890736256)"
      ]
     },
     "execution_count": 36,
     "metadata": {},
     "output_type": "execute_result"
    }
   ],
   "source": [
    "R,Rt\n",
    "\n"
   ]
  },
  {
   "cell_type": "markdown",
   "metadata": {},
   "source": [
    "# Summary"
   ]
  },
  {
   "cell_type": "code",
   "execution_count": 37,
   "metadata": {},
   "outputs": [
    {
     "name": "stdout",
     "output_type": "stream",
     "text": [
      "The theoretical time of flight was 2.3531092192763716\n",
      "The calculated time of landing is 2.35\n"
     ]
    }
   ],
   "source": [
    "print(\"The theoretical time of flight was\", T)\n",
    "print(\"The calculated time of landing is\", t_landing)"
   ]
  },
  {
   "cell_type": "code",
   "execution_count": 38,
   "metadata": {},
   "outputs": [
    {
     "name": "stdout",
     "output_type": "stream",
     "text": [
      "The theoretical range was 39.46966890736256\n",
      "The calculated range is 39.41751669343493\n"
     ]
    }
   ],
   "source": [
    "print(\"The theoretical range was\", Rt)\n",
    "print(\"The calculated range is\",R)"
   ]
  },
  {
   "cell_type": "code",
   "execution_count": 39,
   "metadata": {},
   "outputs": [
    {
     "name": "stdout",
     "output_type": "stream",
     "text": [
      "The theoretical maximum height attained in flight :  7.5537077237163235\n",
      "The calculated maximum height attained in flight : 7.553696577333601\n"
     ]
    }
   ],
   "source": [
    "print(\"The theoretical maximum height attained in flight : \", Ht)\n",
    "print(\"The calculated maximum height attained in flight :\", H)"
   ]
  },
  {
   "cell_type": "code",
   "execution_count": null,
   "metadata": {},
   "outputs": [],
   "source": []
  },
  {
   "cell_type": "code",
   "execution_count": null,
   "metadata": {},
   "outputs": [],
   "source": []
  },
  {
   "cell_type": "code",
   "execution_count": null,
   "metadata": {},
   "outputs": [],
   "source": []
  }
 ],
 "metadata": {
  "kernelspec": {
   "display_name": "Python 3",
   "language": "python",
   "name": "python3"
  },
  "language_info": {
   "codemirror_mode": {
    "name": "ipython",
    "version": 3
   },
   "file_extension": ".py",
   "mimetype": "text/x-python",
   "name": "python",
   "nbconvert_exporter": "python",
   "pygments_lexer": "ipython3",
   "version": "3.7.4"
  }
 },
 "nbformat": 4,
 "nbformat_minor": 2
}
